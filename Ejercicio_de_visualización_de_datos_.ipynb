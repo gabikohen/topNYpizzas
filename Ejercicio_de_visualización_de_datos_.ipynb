{
  "cells": [
    {
      "cell_type": "markdown",
      "metadata": {
        "id": "view-in-github",
        "colab_type": "text"
      },
      "source": [
        "<a href=\"https://colab.research.google.com/github/gabikohen/topNYpizzas/blob/master/Ejercicio_de_visualizaci%C3%B3n_de_datos_.ipynb\" target=\"_parent\"><img src=\"https://colab.research.google.com/assets/colab-badge.svg\" alt=\"Open In Colab\"/></a>"
      ]
    },
    {
      "cell_type": "code",
      "execution_count": 35,
      "metadata": {
        "colab": {
          "base_uri": "https://localhost:8080/"
        },
        "id": "hGZFB0eNWQVy",
        "outputId": "5630d3f2-c436-4ae0-f81e-b3f59c600876"
      },
      "outputs": [
        {
          "output_type": "stream",
          "name": "stdout",
          "text": [
            "Mounted at /content/drive\n"
          ]
        }
      ],
      "source": [
        "from google.colab import drive\n",
        "drive.mount('/content/drive',force_remount=True)"
      ]
    },
    {
      "cell_type": "code",
      "execution_count": 36,
      "metadata": {
        "id": "DwgLR5GHXlqW"
      },
      "outputs": [],
      "source": [
        "import matplotlib.pyplot as plt\n",
        "import numpy as np\n",
        "import pandas as pd\n"
      ]
    },
    {
      "cell_type": "code",
      "execution_count": 38,
      "metadata": {
        "colab": {
          "base_uri": "https://localhost:8080/",
          "height": 345
        },
        "id": "VvPQHFgLXmUr",
        "outputId": "4eb1aae9-af37-4481-8748-fe6125975ed4"
      },
      "outputs": [
        {
          "output_type": "execute_result",
          "data": {
            "text/plain": [
              "                            Link to IG Post                Name  location_lat  \\\n",
              "0  https://www.instagram.com/p/CjszJ-fOP5o/      Angelo’s Pizza     40.623254   \n",
              "1  https://www.instagram.com/p/CjdcPNAufPj/      Ozone Pizzeria     40.680892   \n",
              "2  https://www.instagram.com/p/CjQdNsaOZlY/          Pino Pizza     40.600015   \n",
              "3  https://www.instagram.com/p/Ci5XblnOnMA/          La Rondine     40.713335   \n",
              "4  https://www.instagram.com/p/CiiLAtkON_1/  Rony's Fresh Pizza     40.748251   \n",
              "\n",
              "   location_lng       Date Date Expanded (times in EST)  Year  \\\n",
              "0    -73.937922  2022-1014    Oct 14th 2022, 5:57:51 pm  2022   \n",
              "1    -73.842631  2022-1008     Oct 8th 2022, 6:48:59 pm  2022   \n",
              "2    -73.999455  2022-1003     Oct 3rd 2022, 5:47:23 pm  2022   \n",
              "3    -73.829410  2022-0924    Sep 24th 2022, 6:34:19 pm  2022   \n",
              "4    -73.992350  2022-0915    Sep 15th 2022, 6:23:16 pm  2022   \n",
              "\n",
              "   Price as number Price  Style Notes  \n",
              "0             3.00     3  Plain   NaN  \n",
              "1             3.00     3  Plain   NaN  \n",
              "2             2.75  2.75  Plain   NaN  \n",
              "3             3.25  3.25  Plain   NaN  \n",
              "4             1.00     1  Plain   NaN  "
            ],
            "text/html": [
              "\n",
              "  <div id=\"df-2ce1c393-da14-4155-990b-32eccb42d5ce\" class=\"colab-df-container\">\n",
              "    <div>\n",
              "<style scoped>\n",
              "    .dataframe tbody tr th:only-of-type {\n",
              "        vertical-align: middle;\n",
              "    }\n",
              "\n",
              "    .dataframe tbody tr th {\n",
              "        vertical-align: top;\n",
              "    }\n",
              "\n",
              "    .dataframe thead th {\n",
              "        text-align: right;\n",
              "    }\n",
              "</style>\n",
              "<table border=\"1\" class=\"dataframe\">\n",
              "  <thead>\n",
              "    <tr style=\"text-align: right;\">\n",
              "      <th></th>\n",
              "      <th>Link to IG Post</th>\n",
              "      <th>Name</th>\n",
              "      <th>location_lat</th>\n",
              "      <th>location_lng</th>\n",
              "      <th>Date</th>\n",
              "      <th>Date Expanded (times in EST)</th>\n",
              "      <th>Year</th>\n",
              "      <th>Price as number</th>\n",
              "      <th>Price</th>\n",
              "      <th>Style</th>\n",
              "      <th>Notes</th>\n",
              "    </tr>\n",
              "  </thead>\n",
              "  <tbody>\n",
              "    <tr>\n",
              "      <th>0</th>\n",
              "      <td>https://www.instagram.com/p/CjszJ-fOP5o/</td>\n",
              "      <td>Angelo’s Pizza</td>\n",
              "      <td>40.623254</td>\n",
              "      <td>-73.937922</td>\n",
              "      <td>2022-1014</td>\n",
              "      <td>Oct 14th 2022, 5:57:51 pm</td>\n",
              "      <td>2022</td>\n",
              "      <td>3.00</td>\n",
              "      <td>3</td>\n",
              "      <td>Plain</td>\n",
              "      <td>NaN</td>\n",
              "    </tr>\n",
              "    <tr>\n",
              "      <th>1</th>\n",
              "      <td>https://www.instagram.com/p/CjdcPNAufPj/</td>\n",
              "      <td>Ozone Pizzeria</td>\n",
              "      <td>40.680892</td>\n",
              "      <td>-73.842631</td>\n",
              "      <td>2022-1008</td>\n",
              "      <td>Oct 8th 2022, 6:48:59 pm</td>\n",
              "      <td>2022</td>\n",
              "      <td>3.00</td>\n",
              "      <td>3</td>\n",
              "      <td>Plain</td>\n",
              "      <td>NaN</td>\n",
              "    </tr>\n",
              "    <tr>\n",
              "      <th>2</th>\n",
              "      <td>https://www.instagram.com/p/CjQdNsaOZlY/</td>\n",
              "      <td>Pino Pizza</td>\n",
              "      <td>40.600015</td>\n",
              "      <td>-73.999455</td>\n",
              "      <td>2022-1003</td>\n",
              "      <td>Oct 3rd 2022, 5:47:23 pm</td>\n",
              "      <td>2022</td>\n",
              "      <td>2.75</td>\n",
              "      <td>2.75</td>\n",
              "      <td>Plain</td>\n",
              "      <td>NaN</td>\n",
              "    </tr>\n",
              "    <tr>\n",
              "      <th>3</th>\n",
              "      <td>https://www.instagram.com/p/Ci5XblnOnMA/</td>\n",
              "      <td>La Rondine</td>\n",
              "      <td>40.713335</td>\n",
              "      <td>-73.829410</td>\n",
              "      <td>2022-0924</td>\n",
              "      <td>Sep 24th 2022, 6:34:19 pm</td>\n",
              "      <td>2022</td>\n",
              "      <td>3.25</td>\n",
              "      <td>3.25</td>\n",
              "      <td>Plain</td>\n",
              "      <td>NaN</td>\n",
              "    </tr>\n",
              "    <tr>\n",
              "      <th>4</th>\n",
              "      <td>https://www.instagram.com/p/CiiLAtkON_1/</td>\n",
              "      <td>Rony's Fresh Pizza</td>\n",
              "      <td>40.748251</td>\n",
              "      <td>-73.992350</td>\n",
              "      <td>2022-0915</td>\n",
              "      <td>Sep 15th 2022, 6:23:16 pm</td>\n",
              "      <td>2022</td>\n",
              "      <td>1.00</td>\n",
              "      <td>1</td>\n",
              "      <td>Plain</td>\n",
              "      <td>NaN</td>\n",
              "    </tr>\n",
              "  </tbody>\n",
              "</table>\n",
              "</div>\n",
              "    <div class=\"colab-df-buttons\">\n",
              "\n",
              "  <div class=\"colab-df-container\">\n",
              "    <button class=\"colab-df-convert\" onclick=\"convertToInteractive('df-2ce1c393-da14-4155-990b-32eccb42d5ce')\"\n",
              "            title=\"Convert this dataframe to an interactive table.\"\n",
              "            style=\"display:none;\">\n",
              "\n",
              "  <svg xmlns=\"http://www.w3.org/2000/svg\" height=\"24px\" viewBox=\"0 -960 960 960\">\n",
              "    <path d=\"M120-120v-720h720v720H120Zm60-500h600v-160H180v160Zm220 220h160v-160H400v160Zm0 220h160v-160H400v160ZM180-400h160v-160H180v160Zm440 0h160v-160H620v160ZM180-180h160v-160H180v160Zm440 0h160v-160H620v160Z\"/>\n",
              "  </svg>\n",
              "    </button>\n",
              "\n",
              "  <style>\n",
              "    .colab-df-container {\n",
              "      display:flex;\n",
              "      gap: 12px;\n",
              "    }\n",
              "\n",
              "    .colab-df-convert {\n",
              "      background-color: #E8F0FE;\n",
              "      border: none;\n",
              "      border-radius: 50%;\n",
              "      cursor: pointer;\n",
              "      display: none;\n",
              "      fill: #1967D2;\n",
              "      height: 32px;\n",
              "      padding: 0 0 0 0;\n",
              "      width: 32px;\n",
              "    }\n",
              "\n",
              "    .colab-df-convert:hover {\n",
              "      background-color: #E2EBFA;\n",
              "      box-shadow: 0px 1px 2px rgba(60, 64, 67, 0.3), 0px 1px 3px 1px rgba(60, 64, 67, 0.15);\n",
              "      fill: #174EA6;\n",
              "    }\n",
              "\n",
              "    .colab-df-buttons div {\n",
              "      margin-bottom: 4px;\n",
              "    }\n",
              "\n",
              "    [theme=dark] .colab-df-convert {\n",
              "      background-color: #3B4455;\n",
              "      fill: #D2E3FC;\n",
              "    }\n",
              "\n",
              "    [theme=dark] .colab-df-convert:hover {\n",
              "      background-color: #434B5C;\n",
              "      box-shadow: 0px 1px 3px 1px rgba(0, 0, 0, 0.15);\n",
              "      filter: drop-shadow(0px 1px 2px rgba(0, 0, 0, 0.3));\n",
              "      fill: #FFFFFF;\n",
              "    }\n",
              "  </style>\n",
              "\n",
              "    <script>\n",
              "      const buttonEl =\n",
              "        document.querySelector('#df-2ce1c393-da14-4155-990b-32eccb42d5ce button.colab-df-convert');\n",
              "      buttonEl.style.display =\n",
              "        google.colab.kernel.accessAllowed ? 'block' : 'none';\n",
              "\n",
              "      async function convertToInteractive(key) {\n",
              "        const element = document.querySelector('#df-2ce1c393-da14-4155-990b-32eccb42d5ce');\n",
              "        const dataTable =\n",
              "          await google.colab.kernel.invokeFunction('convertToInteractive',\n",
              "                                                    [key], {});\n",
              "        if (!dataTable) return;\n",
              "\n",
              "        const docLinkHtml = 'Like what you see? Visit the ' +\n",
              "          '<a target=\"_blank\" href=https://colab.research.google.com/notebooks/data_table.ipynb>data table notebook</a>'\n",
              "          + ' to learn more about interactive tables.';\n",
              "        element.innerHTML = '';\n",
              "        dataTable['output_type'] = 'display_data';\n",
              "        await google.colab.output.renderOutput(dataTable, element);\n",
              "        const docLink = document.createElement('div');\n",
              "        docLink.innerHTML = docLinkHtml;\n",
              "        element.appendChild(docLink);\n",
              "      }\n",
              "    </script>\n",
              "  </div>\n",
              "\n",
              "\n",
              "<div id=\"df-20455522-2179-4df9-abef-20a4c1adf33c\">\n",
              "  <button class=\"colab-df-quickchart\" onclick=\"quickchart('df-20455522-2179-4df9-abef-20a4c1adf33c')\"\n",
              "            title=\"Suggest charts\"\n",
              "            style=\"display:none;\">\n",
              "\n",
              "<svg xmlns=\"http://www.w3.org/2000/svg\" height=\"24px\"viewBox=\"0 0 24 24\"\n",
              "     width=\"24px\">\n",
              "    <g>\n",
              "        <path d=\"M19 3H5c-1.1 0-2 .9-2 2v14c0 1.1.9 2 2 2h14c1.1 0 2-.9 2-2V5c0-1.1-.9-2-2-2zM9 17H7v-7h2v7zm4 0h-2V7h2v10zm4 0h-2v-4h2v4z\"/>\n",
              "    </g>\n",
              "</svg>\n",
              "  </button>\n",
              "\n",
              "<style>\n",
              "  .colab-df-quickchart {\n",
              "      --bg-color: #E8F0FE;\n",
              "      --fill-color: #1967D2;\n",
              "      --hover-bg-color: #E2EBFA;\n",
              "      --hover-fill-color: #174EA6;\n",
              "      --disabled-fill-color: #AAA;\n",
              "      --disabled-bg-color: #DDD;\n",
              "  }\n",
              "\n",
              "  [theme=dark] .colab-df-quickchart {\n",
              "      --bg-color: #3B4455;\n",
              "      --fill-color: #D2E3FC;\n",
              "      --hover-bg-color: #434B5C;\n",
              "      --hover-fill-color: #FFFFFF;\n",
              "      --disabled-bg-color: #3B4455;\n",
              "      --disabled-fill-color: #666;\n",
              "  }\n",
              "\n",
              "  .colab-df-quickchart {\n",
              "    background-color: var(--bg-color);\n",
              "    border: none;\n",
              "    border-radius: 50%;\n",
              "    cursor: pointer;\n",
              "    display: none;\n",
              "    fill: var(--fill-color);\n",
              "    height: 32px;\n",
              "    padding: 0;\n",
              "    width: 32px;\n",
              "  }\n",
              "\n",
              "  .colab-df-quickchart:hover {\n",
              "    background-color: var(--hover-bg-color);\n",
              "    box-shadow: 0 1px 2px rgba(60, 64, 67, 0.3), 0 1px 3px 1px rgba(60, 64, 67, 0.15);\n",
              "    fill: var(--button-hover-fill-color);\n",
              "  }\n",
              "\n",
              "  .colab-df-quickchart-complete:disabled,\n",
              "  .colab-df-quickchart-complete:disabled:hover {\n",
              "    background-color: var(--disabled-bg-color);\n",
              "    fill: var(--disabled-fill-color);\n",
              "    box-shadow: none;\n",
              "  }\n",
              "\n",
              "  .colab-df-spinner {\n",
              "    border: 2px solid var(--fill-color);\n",
              "    border-color: transparent;\n",
              "    border-bottom-color: var(--fill-color);\n",
              "    animation:\n",
              "      spin 1s steps(1) infinite;\n",
              "  }\n",
              "\n",
              "  @keyframes spin {\n",
              "    0% {\n",
              "      border-color: transparent;\n",
              "      border-bottom-color: var(--fill-color);\n",
              "      border-left-color: var(--fill-color);\n",
              "    }\n",
              "    20% {\n",
              "      border-color: transparent;\n",
              "      border-left-color: var(--fill-color);\n",
              "      border-top-color: var(--fill-color);\n",
              "    }\n",
              "    30% {\n",
              "      border-color: transparent;\n",
              "      border-left-color: var(--fill-color);\n",
              "      border-top-color: var(--fill-color);\n",
              "      border-right-color: var(--fill-color);\n",
              "    }\n",
              "    40% {\n",
              "      border-color: transparent;\n",
              "      border-right-color: var(--fill-color);\n",
              "      border-top-color: var(--fill-color);\n",
              "    }\n",
              "    60% {\n",
              "      border-color: transparent;\n",
              "      border-right-color: var(--fill-color);\n",
              "    }\n",
              "    80% {\n",
              "      border-color: transparent;\n",
              "      border-right-color: var(--fill-color);\n",
              "      border-bottom-color: var(--fill-color);\n",
              "    }\n",
              "    90% {\n",
              "      border-color: transparent;\n",
              "      border-bottom-color: var(--fill-color);\n",
              "    }\n",
              "  }\n",
              "</style>\n",
              "\n",
              "  <script>\n",
              "    async function quickchart(key) {\n",
              "      const quickchartButtonEl =\n",
              "        document.querySelector('#' + key + ' button');\n",
              "      quickchartButtonEl.disabled = true;  // To prevent multiple clicks.\n",
              "      quickchartButtonEl.classList.add('colab-df-spinner');\n",
              "      try {\n",
              "        const charts = await google.colab.kernel.invokeFunction(\n",
              "            'suggestCharts', [key], {});\n",
              "      } catch (error) {\n",
              "        console.error('Error during call to suggestCharts:', error);\n",
              "      }\n",
              "      quickchartButtonEl.classList.remove('colab-df-spinner');\n",
              "      quickchartButtonEl.classList.add('colab-df-quickchart-complete');\n",
              "    }\n",
              "    (() => {\n",
              "      let quickchartButtonEl =\n",
              "        document.querySelector('#df-20455522-2179-4df9-abef-20a4c1adf33c button');\n",
              "      quickchartButtonEl.style.display =\n",
              "        google.colab.kernel.accessAllowed ? 'block' : 'none';\n",
              "    })();\n",
              "  </script>\n",
              "</div>\n",
              "    </div>\n",
              "  </div>\n"
            ]
          },
          "metadata": {},
          "execution_count": 38
        }
      ],
      "source": [
        "filename = '/content/drive/MyDrive/Colab Notebooks/nyc_slice_rawdata.xlsx'\n",
        "df = pd.read_excel(filename)\n",
        "df.head()\n"
      ]
    },
    {
      "cell_type": "markdown",
      "source": [
        "Paso hacer un EDA"
      ],
      "metadata": {
        "id": "vhUyx6WmURGy"
      }
    },
    {
      "cell_type": "markdown",
      "source": [
        "Compruebo si hay duplicados y cuantos"
      ],
      "metadata": {
        "id": "3NqpcEfuUjzG"
      }
    },
    {
      "cell_type": "code",
      "source": [
        "df.duplicated().sum()"
      ],
      "metadata": {
        "colab": {
          "base_uri": "https://localhost:8080/"
        },
        "id": "Nw2qVObqUU5H",
        "outputId": "861e7057-d026-4caa-e79b-04db735a25df"
      },
      "execution_count": 39,
      "outputs": [
        {
          "output_type": "execute_result",
          "data": {
            "text/plain": [
              "0"
            ]
          },
          "metadata": {},
          "execution_count": 39
        }
      ]
    },
    {
      "cell_type": "markdown",
      "source": [
        "Compruebo que los elimine"
      ],
      "metadata": {
        "id": "jXeUR5FgUrMm"
      }
    },
    {
      "cell_type": "markdown",
      "source": [
        "Compruebo si hay nullos y cuantos"
      ],
      "metadata": {
        "id": "uwtIk7YwUtLr"
      }
    },
    {
      "cell_type": "code",
      "source": [
        "df.isna().sum()"
      ],
      "metadata": {
        "colab": {
          "base_uri": "https://localhost:8080/"
        },
        "id": "FmmzGghVUv4S",
        "outputId": "9de6d967-05c6-4f76-f3f7-818ec6443efe"
      },
      "execution_count": 41,
      "outputs": [
        {
          "output_type": "execute_result",
          "data": {
            "text/plain": [
              "Link to IG Post                   0\n",
              "Name                              0\n",
              "location_lat                      0\n",
              "location_lng                      0\n",
              "Date                              0\n",
              "Date Expanded (times in EST)      0\n",
              "Year                              0\n",
              "Price as number                   0\n",
              "Price                             0\n",
              "Style                             0\n",
              "Notes                           457\n",
              "dtype: int64"
            ]
          },
          "metadata": {},
          "execution_count": 41
        }
      ]
    },
    {
      "cell_type": "code",
      "source": [
        "df.Notes.unique() # valores unico de la columna"
      ],
      "metadata": {
        "colab": {
          "base_uri": "https://localhost:8080/"
        },
        "id": "7lhbraHKUF--",
        "outputId": "83b469d6-631b-4a36-bd80-2794382e1201"
      },
      "execution_count": 42,
      "outputs": [
        {
          "output_type": "execute_result",
          "data": {
            "text/plain": [
              "array([nan, '2nd Visit', '3rd Visit'], dtype=object)"
            ]
          },
          "metadata": {},
          "execution_count": 42
        }
      ]
    },
    {
      "cell_type": "markdown",
      "source": [
        "Podemos visualizar que la columna notes es un obj con nan, 2nd visit, 3rd visit. Por ende los nan los voy remplazar por 1fr visit suponiendo que es 1 visita."
      ],
      "metadata": {
        "id": "Vw_yNFP9kDdU"
      }
    },
    {
      "cell_type": "code",
      "source": [
        "df[\"Notes\"].fillna(\"1frs Visit\",inplace=True)\n"
      ],
      "metadata": {
        "id": "sTYnb0NoVyrw"
      },
      "execution_count": 43,
      "outputs": []
    },
    {
      "cell_type": "code",
      "source": [
        "df.Notes.unique()"
      ],
      "metadata": {
        "colab": {
          "base_uri": "https://localhost:8080/"
        },
        "id": "AjXN-qCck3Yi",
        "outputId": "4ba6884a-e739-4eab-fcea-3eed74d713d5"
      },
      "execution_count": 44,
      "outputs": [
        {
          "output_type": "execute_result",
          "data": {
            "text/plain": [
              "array(['1frs Visit', '2nd Visit', '3rd Visit'], dtype=object)"
            ]
          },
          "metadata": {},
          "execution_count": 44
        }
      ]
    },
    {
      "cell_type": "code",
      "source": [
        "df.Notes.isnull().sum()"
      ],
      "metadata": {
        "colab": {
          "base_uri": "https://localhost:8080/"
        },
        "id": "VedAsZFmV7WD",
        "outputId": "92a7a946-da13-40f3-c627-aea8ea263566"
      },
      "execution_count": 45,
      "outputs": [
        {
          "output_type": "execute_result",
          "data": {
            "text/plain": [
              "0"
            ]
          },
          "metadata": {},
          "execution_count": 45
        }
      ]
    },
    {
      "cell_type": "code",
      "source": [
        "print(df.dtypes)"
      ],
      "metadata": {
        "colab": {
          "base_uri": "https://localhost:8080/"
        },
        "id": "96g_dlIRmkUs",
        "outputId": "305ba992-b378-4f55-b0d6-e36fd6c886d3"
      },
      "execution_count": 47,
      "outputs": [
        {
          "output_type": "stream",
          "name": "stdout",
          "text": [
            "Link to IG Post                  object\n",
            "Name                             object\n",
            "location_lat                    float64\n",
            "location_lng                    float64\n",
            "Date                             object\n",
            "Date Expanded (times in EST)     object\n",
            "Year                              int64\n",
            "Price as number                 float64\n",
            "Price                            object\n",
            "Style                            object\n",
            "Notes                            object\n",
            "dtype: object\n"
          ]
        }
      ]
    },
    {
      "cell_type": "code",
      "source": [
        "df['Price'].unique()"
      ],
      "metadata": {
        "colab": {
          "base_uri": "https://localhost:8080/"
        },
        "id": "_B4PNWK_p3Af",
        "outputId": "ee2fd191-7be8-47ed-fa92-f3e5fc874f32"
      },
      "execution_count": 70,
      "outputs": [
        {
          "output_type": "execute_result",
          "data": {
            "text/plain": [
              "array([3, 2.75, 3.25, 1, 3.5, 3.35, '$3.00', '$2.50', 3.81, 4.35, '$3.25',\n",
              "       3.26, '$2.75', 4.5, 3.76, '$3.24', '$2.00', 4.9, 3.27, '$3.50',\n",
              "       '$5.00', '$4.00', '$5.50', 2.5, 6.53, 4.25, 3.2, 2, 4.36, 4,\n",
              "       '$1.00', '$3.81', '$3.75', '$2.25', '$4.50', '$4.40', '$1.50',\n",
              "       '$4.25', '$3.80', '$2.65', '$4.08', '$3.85', '$2.95', '$2.45',\n",
              "       '$3.95', '$5.25', '$3.15', '$1.75', '$3.55', '$2.85', '$3.79',\n",
              "       '$2.71', '$1.09', '$3.05', '$2.55'], dtype=object)"
            ]
          },
          "metadata": {},
          "execution_count": 70
        }
      ]
    },
    {
      "cell_type": "code",
      "source": [
        "df['Price'] = [float(value.replace('$', '')) if isinstance(value, str) else value for value in df['Price']]\n",
        "\n",
        "# Imprimir la columna 'Price' actualizada\n",
        "print(df['Price'])\n"
      ],
      "metadata": {
        "colab": {
          "base_uri": "https://localhost:8080/"
        },
        "id": "Pn6a11X3qOzi",
        "outputId": "ef84a88a-001e-479d-9d61-012c8ef5b04a"
      },
      "execution_count": 76,
      "outputs": [
        {
          "output_type": "stream",
          "name": "stdout",
          "text": [
            "0      3.00\n",
            "1      3.00\n",
            "2      2.75\n",
            "3      3.25\n",
            "4      1.00\n",
            "       ... \n",
            "459    2.75\n",
            "460    2.75\n",
            "461    2.25\n",
            "462    2.55\n",
            "463    2.00\n",
            "Name: Price, Length: 464, dtype: float64\n"
          ]
        }
      ]
    },
    {
      "cell_type": "code",
      "source": [
        "# convierto price en int\n",
        "\n",
        "df['Price'] = df['Price'].astype(int)"
      ],
      "metadata": {
        "id": "Ymu7f3TLpoSb"
      },
      "execution_count": 77,
      "outputs": []
    },
    {
      "cell_type": "code",
      "source": [
        "print(df.columns)"
      ],
      "metadata": {
        "colab": {
          "base_uri": "https://localhost:8080/"
        },
        "id": "95BdHBe2oZYk",
        "outputId": "39925f02-0b3e-4902-d775-7a8dc7ad0928"
      },
      "execution_count": 78,
      "outputs": [
        {
          "output_type": "stream",
          "name": "stdout",
          "text": [
            "Index(['Link to IG Post', 'Name', 'location_lat', 'location_lng', 'Date',\n",
            "       'Date Expanded (times in EST)', 'Year', 'Price as number', 'Price',\n",
            "       'Style', 'Notes'],\n",
            "      dtype='object')\n"
          ]
        }
      ]
    },
    {
      "cell_type": "markdown",
      "source": [
        "Quiero mostrar el precio para las pizzas Angelo’s Pizza"
      ],
      "metadata": {
        "id": "yS7yd8YxnM11"
      }
    },
    {
      "cell_type": "code",
      "source": [
        "result = df.groupby('Name')['Price'].value_counts()\n",
        "result"
      ],
      "metadata": {
        "colab": {
          "base_uri": "https://localhost:8080/"
        },
        "id": "aukfcV2gnjxZ",
        "outputId": "9096664a-c8cb-4ca5-8a50-ce41ca41d81c"
      },
      "execution_count": 80,
      "outputs": [
        {
          "output_type": "execute_result",
          "data": {
            "text/plain": [
              "Name                     Price\n",
              "$1.00 Pizza              1        1\n",
              "11B Express              3        1\n",
              "2 Bros Pizza             1        2\n",
              "2 Bros. Pizza            1        2\n",
              "44st Pizza               1        1\n",
              "                                 ..\n",
              "Woodhaven Cafe Pizzeria  1        1\n",
              "Yankee J-Z Pizza Inc     3        1\n",
              "Yankee Pizza             2        1\n",
              "Zazzy's Pizza            3        1\n",
              "iPizza NY                3        1\n",
              "Name: Price, Length: 424, dtype: int64"
            ]
          },
          "metadata": {},
          "execution_count": 80
        }
      ]
    },
    {
      "cell_type": "code",
      "execution_count": 109,
      "metadata": {
        "colab": {
          "base_uri": "https://localhost:8080/",
          "height": 607
        },
        "id": "Kf4M4shelSZi",
        "outputId": "0abf4134-6e9e-43ca-b14c-2c0b990716ed"
      },
      "outputs": [
        {
          "output_type": "display_data",
          "data": {
            "text/plain": [
              "<Figure size 1000x600 with 1 Axes>"
            ],
            "image/png": "[encoded data removed]"
          },
          "metadata": {}
        }
      ],
      "source": [
        "df_sorted = df.sort_values(by=\"Price\", ascending=False)\n",
        "top_10_pizzas = df_sorted.head(10)\n",
        "plt.figure(figsize=(10, 6))\n",
        "plt.bar(top_10_pizzas[\"Name\"], top_10_pizzas[\"Price\"], color='skyblue')\n",
        "plt.xlabel('Nombre de la Pizzeria')\n",
        "plt.ylabel('Precio')\n",
        "plt.title('Top 10 Pizzas Más Caras')\n",
        "plt.xticks(rotation=45, ha='right')  # Rotar los nombres de las pizzas para mejor legibilidad\n",
        "plt.tight_layout()\n",
        "plt.legend(top_10_pizzas[\"Name\"], framealpha=1, shadow=True, title=\"top 10 pizzas\")\n",
        "# Mostrar el gráfico\n",
        "plt.show()\n"
      ]
    },
    {
      "cell_type": "markdown",
      "source": [
        "Este gráfico de barras proporciona una rápida visualización de las diez pizzas más caras, destacando la variación de precios entre las diferentes pizzerías."
      ],
      "metadata": {
        "id": "mYddnX03xLi-"
      }
    }
  ],
  "metadata": {
    "colab": {
      "provenance": [],
      "authorship_tag": "ABX9TyPOLTRbbJ4laXVY9kiTPd0t",
      "include_colab_link": true
    },
    "kernelspec": {
      "display_name": "Python 3",
      "name": "python3"
    },
    "language_info": {
      "name": "python"
    }
  },
  "nbformat": 4,
  "nbformat_minor": 0
}